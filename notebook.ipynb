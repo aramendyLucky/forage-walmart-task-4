{
 "cells": [
  {
   "cell_type": "code",
   "execution_count": 4,
   "metadata": {},
   "outputs": [
    {
     "name": "stdout",
     "output_type": "stream",
     "text": [
      "Conectando a la base de datos SQLite...\n",
      "Conexión exitosa.\n",
      "Leyendo y cargando Spreadsheet 0...\n",
      "Spreadsheet 0 cargado exitosamente.\n",
      "Leyendo y cargando Spreadsheet 1...\n",
      "Spreadsheet 1 cargado exitosamente.\n",
      "Leyendo y cargando Spreadsheet 2...\n",
      "Spreadsheet 2 cargado exitosamente.\n",
      "Conexión cerrada.\n"
     ]
    }
   ],
   "source": [
    "import sqlite3\n",
    "import pandas as pd\n",
    "\n",
    "\n",
    "print(\"Conectando a la base de datos SQLite...\")\n",
    "# Conectar a la base de datos SQLite\n",
    "conn = sqlite3.connect('shipment_database.db')\n",
    "print(\"Conexión exitosa.\")\n",
    "\n",
    "# Leer y cargar Spreadsheet 0\n",
    "print(\"Leyendo y cargando Spreadsheet 0...\")\n",
    "df_spreadsheet_0 = pd.read_csv('data/shipping_data_0.csv')\n",
    "# Insertar datos en la base de datos\n",
    "df_spreadsheet_0.to_sql('table_0', conn, index=False, if_exists='replace')\n",
    "print(\"Spreadsheet 0 cargado exitosamente.\")\n",
    "\n",
    "# Realizar manipulaciones necesarias en df_spreadsheet_0\n",
    "# ...\n",
    "\n",
    "\n",
    "# Leer y cargar Spreadsheet 1\n",
    "print(\"Leyendo y cargando Spreadsheet 1...\")\n",
    "df_spreadsheet_1 = pd.read_csv('data/shipping_data_1.csv')\n",
    "# Insertar datos en la base de datos\n",
    "df_spreadsheet_1.to_sql('table_1', conn, index=False, if_exists='replace')\n",
    "print(\"Spreadsheet 1 cargado exitosamente.\")\n",
    "\n",
    "# Realizar manipulaciones necesarias en df_spreadsheet_1\n",
    "# ...\n",
    "\n",
    "\n",
    "# Leer y cargar Spreadsheet 2\n",
    "print(\"Leyendo y cargando Spreadsheet 2...\")\n",
    "df_spreadsheet_2 = pd.read_csv('data/shipping_data_2.csv')\n",
    "# Insertar datos en la base de datos\n",
    "df_spreadsheet_2.to_sql('table_2', conn, index=False, if_exists='replace')\n",
    "print(\"Spreadsheet 2 cargado exitosamente.\")\n",
    "\n",
    "# Realizar manipulaciones necesarias en df_spreadsheet_2\n",
    "# ...\n",
    "\n",
    "\n",
    "# Cerrar la conexión\n",
    "conn.close()\n",
    "print(\"Conexión cerrada.\")\n"
   ]
  }
 ],
 "metadata": {
  "kernelspec": {
   "display_name": "Python 3",
   "language": "python",
   "name": "python3"
  },
  "language_info": {
   "codemirror_mode": {
    "name": "ipython",
    "version": 3
   },
   "file_extension": ".py",
   "mimetype": "text/x-python",
   "name": "python",
   "nbconvert_exporter": "python",
   "pygments_lexer": "ipython3",
   "version": "3.12.1"
  }
 },
 "nbformat": 4,
 "nbformat_minor": 2
}
